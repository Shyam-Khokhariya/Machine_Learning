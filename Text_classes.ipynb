{
  "nbformat": 4,
  "nbformat_minor": 0,
  "metadata": {
    "colab": {
      "name": "Untitled0.ipynb",
      "version": "0.3.2",
      "provenance": [],
      "collapsed_sections": [],
      "include_colab_link": true
    },
    "kernelspec": {
      "name": "python3",
      "display_name": "Python 3"
    }
  },
  "cells": [
    {
      "cell_type": "markdown",
      "metadata": {
        "id": "view-in-github",
        "colab_type": "text"
      },
      "source": [
        "<a href=\"https://colab.research.google.com/github/Shyam-Khokhariya/Machine_Learning/blob/master/Text_classes.ipynb\" target=\"_parent\"><img src=\"https://colab.research.google.com/assets/colab-badge.svg\" alt=\"Open In Colab\"/></a>"
      ]
    },
    {
      "metadata": {
        "id": "JW1Nmt6T1I3T",
        "colab_type": "code",
        "colab": {}
      },
      "cell_type": "code",
      "source": [
        "import keras\n",
        "from keras.datasets import reuters\n",
        "import numpy as np\n"
      ],
      "execution_count": 0,
      "outputs": []
    },
    {
      "metadata": {
        "id": "8XtgmtAQ2Ydg",
        "colab_type": "code",
        "colab": {}
      },
      "cell_type": "code",
      "source": [
        "(X_train,y_train),(X_test,y_test) = reuters.load_data(num_words=None,test_split=.2)\n",
        "word_index=reuters.get_word_index(path=\"reuters_word_index.json\")"
      ],
      "execution_count": 0,
      "outputs": []
    },
    {
      "metadata": {
        "id": "FqfkdBxZ3BnU",
        "colab_type": "code",
        "outputId": "ad8ae2e8-0d94-4112-95d5-a2ea40b95d40",
        "colab": {
          "base_uri": "https://localhost:8080/",
          "height": 34
        }
      },
      "cell_type": "code",
      "source": [
        "num_classes=max(y_train)+1\n",
        "index_to_word={}\n",
        "for key,value in word_index.items():\n",
        "  index_to_word[value]=key\n",
        "num_classes"
      ],
      "execution_count": 38,
      "outputs": [
        {
          "output_type": "execute_result",
          "data": {
            "text/plain": [
              "46"
            ]
          },
          "metadata": {
            "tags": []
          },
          "execution_count": 38
        }
      ]
    },
    {
      "metadata": {
        "id": "MZuXRazk3zAu",
        "colab_type": "code",
        "colab": {}
      },
      "cell_type": "code",
      "source": [
        "from keras.preprocessing.text import Tokenizer"
      ],
      "execution_count": 0,
      "outputs": []
    },
    {
      "metadata": {
        "id": "eL-ApIYP38GJ",
        "colab_type": "code",
        "colab": {}
      },
      "cell_type": "code",
      "source": [
        "max_words=10000\n",
        "tokenizer=Tokenizer(num_words=max_words)\n",
        "X_train=tokenizer.sequences_to_matrix(X_train,mode='binary')\n",
        "X_test=tokenizer.sequences_to_matrix(X_test,mode='binary')\n",
        "y_train=keras.utils.to_categorical(y_train,num_classes)\n",
        "y_test=keras.utils.to_categorical(y_train,num_classes)"
      ],
      "execution_count": 0,
      "outputs": []
    },
    {
      "metadata": {
        "id": "smMhDBer5UO1",
        "colab_type": "code",
        "colab": {}
      },
      "cell_type": "code",
      "source": [
        "from keras.models import Sequential\n",
        "from keras.layers import Dense,Dropout,Activation,LSTM\n",
        "from keras.layers import Embedding,TimeDistributed\n",
        "hidden_size=10"
      ],
      "execution_count": 0,
      "outputs": []
    },
    {
      "metadata": {
        "id": "ddxy3V9H6V21",
        "colab_type": "code",
        "colab": {}
      },
      "cell_type": "code",
      "source": [
        "model=Sequential()\n",
        "model.add(Embedding(10000,hidden_size,input_length=max_words))\n",
        "model.add(LSTM(hidden_size,return_sequences=True))\n",
        "model.add(LSTM(hidden_size,return_sequences=True))\n",
        "model.add(Dropout(.5))\n",
        "model.add(Dense(num_classes))\n",
        "model.add(Activation('softmax'))\n"
      ],
      "execution_count": 0,
      "outputs": []
    },
    {
      "metadata": {
        "id": "0e9HLAys6K4D",
        "colab_type": "code",
        "colab": {}
      },
      "cell_type": "code",
      "source": [
        "model.compile(loss='categorical_crossentropy',optimizer='adam',metrics=['categorical_accuracy'])"
      ],
      "execution_count": 0,
      "outputs": []
    },
    {
      "metadata": {
        "id": "9p2R1QBKBz3S",
        "colab_type": "code",
        "colab": {
          "base_uri": "https://localhost:8080/",
          "height": 340
        },
        "outputId": "02b226df-215b-4b8e-bd99-0d92b8491225"
      },
      "cell_type": "code",
      "source": [
        "model.summary()"
      ],
      "execution_count": 47,
      "outputs": [
        {
          "output_type": "stream",
          "text": [
            "_________________________________________________________________\n",
            "Layer (type)                 Output Shape              Param #   \n",
            "=================================================================\n",
            "embedding_8 (Embedding)      (None, 10000, 10)         100000    \n",
            "_________________________________________________________________\n",
            "lstm_10 (LSTM)               (None, 10000, 10)         840       \n",
            "_________________________________________________________________\n",
            "lstm_11 (LSTM)               (None, 10000, 10)         840       \n",
            "_________________________________________________________________\n",
            "dropout_4 (Dropout)          (None, 10000, 10)         0         \n",
            "_________________________________________________________________\n",
            "dense_3 (Dense)              (None, 10000, 46)         506       \n",
            "_________________________________________________________________\n",
            "activation_3 (Activation)    (None, 10000, 46)         0         \n",
            "=================================================================\n",
            "Total params: 102,186\n",
            "Trainable params: 102,186\n",
            "Non-trainable params: 0\n",
            "_________________________________________________________________\n"
          ],
          "name": "stdout"
        }
      ]
    },
    {
      "metadata": {
        "id": "qeO7PMArJNIV",
        "colab_type": "code",
        "colab": {}
      },
      "cell_type": "code",
      "source": [
        ""
      ],
      "execution_count": 0,
      "outputs": []
    }
  ]
}